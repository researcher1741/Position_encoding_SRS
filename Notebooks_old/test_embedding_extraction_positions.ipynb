{
 "cells": [
  {
   "cell_type": "markdown",
   "id": "3c363243-84bc-4881-9a8b-21ad14ed3f95",
   "metadata": {},
   "source": [
    "## EMBEDDINGS"
   ]
  },
  {
   "cell_type": "markdown",
   "id": "668f0482-d6dc-4564-ab9d-1bf8eb423ee0",
   "metadata": {},
   "source": [
    "### embeddings extraction"
   ]
  },
  {
   "cell_type": "code",
   "execution_count": 4,
   "id": "fd973760-06af-4e6c-8425-12042f926d54",
   "metadata": {},
   "outputs": [
    {
     "ename": "NameError",
     "evalue": "name 'datapreproces' is not defined",
     "output_type": "error",
     "traceback": [
      "\u001b[0;31m---------------------------------------------------------------------------\u001b[0m",
      "\u001b[0;31mNameError\u001b[0m                                 Traceback (most recent call last)",
      "\u001b[0;32m<ipython-input-4-e6a66a795bd9>\u001b[0m in \u001b[0;36m<module>\u001b[0;34m\u001b[0m\n\u001b[1;32m      1\u001b[0m \u001b[0;32mimport\u001b[0m \u001b[0mtorch\u001b[0m\u001b[0;34m.\u001b[0m\u001b[0mnn\u001b[0m \u001b[0;32mas\u001b[0m \u001b[0mnn\u001b[0m\u001b[0;34m\u001b[0m\u001b[0;34m\u001b[0m\u001b[0m\n\u001b[0;32m----> 2\u001b[0;31m \u001b[0mdata\u001b[0m\u001b[0;34m,\u001b[0m \u001b[0mnum_batch\u001b[0m\u001b[0;34m,\u001b[0m \u001b[0margs\u001b[0m\u001b[0;34m,\u001b[0m \u001b[0mItemFeatures\u001b[0m\u001b[0;34m,\u001b[0m \u001b[0mCXTDict\u001b[0m\u001b[0;34m,\u001b[0m \u001b[0mUserFeatures\u001b[0m \u001b[0;34m=\u001b[0m \u001b[0mdatapreproces\u001b[0m\u001b[0;34m(\u001b[0m\u001b[0mdataset_name\u001b[0m\u001b[0;34m)\u001b[0m\u001b[0;34m\u001b[0m\u001b[0;34m\u001b[0m\u001b[0m\n\u001b[0m\u001b[1;32m      3\u001b[0m \u001b[0;34m[\u001b[0m\u001b[0muser_train\u001b[0m\u001b[0;34m,\u001b[0m \u001b[0muser_valid\u001b[0m\u001b[0;34m,\u001b[0m \u001b[0muser_test\u001b[0m\u001b[0;34m,\u001b[0m \u001b[0musers_total_num\u001b[0m\u001b[0;34m,\u001b[0m \u001b[0mitems_total_num\u001b[0m\u001b[0;34m]\u001b[0m \u001b[0;34m=\u001b[0m \u001b[0mdata\u001b[0m\u001b[0;34m\u001b[0m\u001b[0;34m\u001b[0m\u001b[0m\n",
      "\u001b[0;31mNameError\u001b[0m: name 'datapreproces' is not defined"
     ]
    }
   ],
   "source": [
    "import torch.nn as nn\n",
    "data, num_batch, args, ItemFeatures, CXTDict, UserFeatures = datapreproces(dataset_name)\n",
    "[user_train, user_valid, user_test, users_total_num, items_total_num] = data"
   ]
  },
  {
   "cell_type": "code",
   "execution_count": 136,
   "id": "c8f019d3-068d-4a25-b487-5fb63c3b9222",
   "metadata": {},
   "outputs": [
    {
     "data": {
      "text/plain": [
       "array([[ 0.  ,  0.  ,  0.  , ...,  0.  ,  0.  ,  0.  ],\n",
       "       [33.99,  0.  ,  0.  , ...,  0.  ,  0.  ,  0.  ],\n",
       "       [ 0.  ,  0.  ,  0.  , ...,  0.  ,  0.  ,  0.  ],\n",
       "       ...,\n",
       "       [16.99,  1.  ,  1.  , ...,  0.  ,  0.  ,  0.  ],\n",
       "       [ 9.97,  0.  ,  0.  , ...,  0.  ,  0.  ,  0.  ],\n",
       "       [ 0.  ,  0.  ,  0.  , ...,  0.  ,  0.  ,  0.  ]])"
      ]
     },
     "execution_count": 136,
     "metadata": {},
     "output_type": "execute_result"
    }
   ],
   "source": [
    "ItemFeatures"
   ]
  },
  {
   "cell_type": "code",
   "execution_count": 143,
   "id": "8ac58e81-430e-4be9-96ed-569ea7ee2524",
   "metadata": {},
   "outputs": [],
   "source": [
    "emb = nn.Embedding(ItemFeatures.shape[0], ItemFeatures.shape[1])"
   ]
  },
  {
   "cell_type": "code",
   "execution_count": 140,
   "id": "d3fbdbde-f8a6-4d5b-8e93-579b58d74587",
   "metadata": {},
   "outputs": [
    {
     "data": {
      "text/plain": [
       "dict_keys(['training', '_parameters', '_buffers', '_non_persistent_buffers_set', '_backward_hooks', '_is_full_backward_hook', '_forward_hooks', '_forward_pre_hooks', '_state_dict_hooks', '_load_state_dict_pre_hooks', '_modules', 'num_embeddings', 'embedding_dim', 'padding_idx', 'max_norm', 'norm_type', 'scale_grad_by_freq', 'sparse'])"
      ]
     },
     "execution_count": 140,
     "metadata": {},
     "output_type": "execute_result"
    }
   ],
   "source": [
    "emb.__dict__.keys()"
   ]
  },
  {
   "cell_type": "code",
   "execution_count": 144,
   "id": "9a6caf64-b72e-484b-a66d-8b88fb764ec8",
   "metadata": {},
   "outputs": [],
   "source": [
    "emb = nn.Embedding(ItemFeatures.shape[0], ItemFeatures.shape[1])\n",
    "emb._parameters['weight'] = ItemFeatures"
   ]
  },
  {
   "cell_type": "code",
   "execution_count": 150,
   "id": "930d3d83-1b33-4141-b978-50a2cf66e42b",
   "metadata": {},
   "outputs": [],
   "source": [
    "index_list = [930,4652]\n",
    "array = torch.tensor(emb._parameters['weight'][index_list])"
   ]
  },
  {
   "cell_type": "code",
   "execution_count": 152,
   "id": "f69e7b3f-a421-4ae1-b955-10aa86cee807",
   "metadata": {},
   "outputs": [
    {
     "data": {
      "text/plain": [
       "torch.Size([2, 6507])"
      ]
     },
     "execution_count": 152,
     "metadata": {},
     "output_type": "execute_result"
    }
   ],
   "source": [
    "array.size()"
   ]
  },
  {
   "cell_type": "markdown",
   "id": "23bf555b-3895-4811-a3a3-88e374312377",
   "metadata": {},
   "source": [
    "### Embeddings Position"
   ]
  },
  {
   "cell_type": "code",
   "execution_count": 1,
   "id": "16e12f70-63c6-4db0-b1a6-f928641f6452",
   "metadata": {},
   "outputs": [],
   "source": [
    "import math\n",
    "from torch import nn\n",
    "\n",
    "class SinPositionalEncoding(nn.Module):\n",
    "\n",
    "    def __init__(self, d_model, max_len=5000, concat=False):\n",
    "        \"\"\"\n",
    "        Inputs\n",
    "            d_model - Hidden dimensionality of the input.\n",
    "            max_len - Maximum length of a sequence to expect.\n",
    "        \"\"\"\n",
    "        super().__init__()\n",
    "\n",
    "        # Create matrix of [SeqLen, HiddenDim] representing the positional encoding for max_len inputs\n",
    "        pe = torch.zeros(max_len, d_model)\n",
    "        position = torch.arange(0, max_len, dtype=torch.float).unsqueeze(1)\n",
    "        div_term = torch.exp(torch.arange(0, d_model, 2).float() * (-math.log(10000.0) / d_model))\n",
    "        pe[:, 0::2] = torch.sin(position * div_term)  # even\n",
    "        pe[:, 1::2] = torch.cos(position * div_term)  # odds\n",
    "        pe = pe.unsqueeze(0)\n",
    "        \n",
    "        self.register_buffer('pe', pe, persistent=False)\n",
    "        self.concat = concat\n",
    "        if concat:\n",
    "            self.encoding = nn.Linear(d_model * 2, d_model)\n",
    "\n",
    "    def forward(self, x):\n",
    "        if not self.concat:\n",
    "            x = x + self.pe[:, :x.size(1)]\n",
    "        else:\n",
    "            x = torch.cat(x, self.pe[:, :x.size(1)])\n",
    "            x = self.encoding(x)\n",
    "        return x\n",
    "max_len = 75\n",
    "d_model = 10\n",
    "concat = True"
   ]
  },
  {
   "cell_type": "code",
   "execution_count": 2,
   "id": "3bfeccda-1620-4249-b474-6231c1c9633a",
   "metadata": {},
   "outputs": [
    {
     "ename": "NameError",
     "evalue": "name 'torch' is not defined",
     "output_type": "error",
     "traceback": [
      "\u001b[0;31m---------------------------------------------------------------------------\u001b[0m",
      "\u001b[0;31mNameError\u001b[0m                                 Traceback (most recent call last)",
      "\u001b[0;32m<ipython-input-2-e2ea19cb9dbc>\u001b[0m in \u001b[0;36m<module>\u001b[0;34m\u001b[0m\n\u001b[0;32m----> 1\u001b[0;31m \u001b[0mpe\u001b[0m \u001b[0;34m=\u001b[0m \u001b[0mtorch\u001b[0m\u001b[0;34m.\u001b[0m\u001b[0mzeros\u001b[0m\u001b[0;34m(\u001b[0m\u001b[0mmax_len\u001b[0m\u001b[0;34m,\u001b[0m \u001b[0md_model\u001b[0m\u001b[0;34m)\u001b[0m\u001b[0;34m\u001b[0m\u001b[0;34m\u001b[0m\u001b[0m\n\u001b[0m\u001b[1;32m      2\u001b[0m \u001b[0mposition\u001b[0m \u001b[0;34m=\u001b[0m \u001b[0mtorch\u001b[0m\u001b[0;34m.\u001b[0m\u001b[0marange\u001b[0m\u001b[0;34m(\u001b[0m\u001b[0;36m0\u001b[0m\u001b[0;34m,\u001b[0m \u001b[0mmax_len\u001b[0m\u001b[0;34m,\u001b[0m \u001b[0mdtype\u001b[0m\u001b[0;34m=\u001b[0m\u001b[0mtorch\u001b[0m\u001b[0;34m.\u001b[0m\u001b[0mfloat\u001b[0m\u001b[0;34m)\u001b[0m\u001b[0;34m.\u001b[0m\u001b[0munsqueeze\u001b[0m\u001b[0;34m(\u001b[0m\u001b[0;36m1\u001b[0m\u001b[0;34m)\u001b[0m\u001b[0;34m\u001b[0m\u001b[0;34m\u001b[0m\u001b[0m\n\u001b[1;32m      3\u001b[0m \u001b[0mdiv_term\u001b[0m \u001b[0;34m=\u001b[0m \u001b[0mtorch\u001b[0m\u001b[0;34m.\u001b[0m\u001b[0mexp\u001b[0m\u001b[0;34m(\u001b[0m\u001b[0mtorch\u001b[0m\u001b[0;34m.\u001b[0m\u001b[0marange\u001b[0m\u001b[0;34m(\u001b[0m\u001b[0;36m0\u001b[0m\u001b[0;34m,\u001b[0m \u001b[0md_model\u001b[0m\u001b[0;34m,\u001b[0m \u001b[0;36m2\u001b[0m\u001b[0;34m)\u001b[0m\u001b[0;34m.\u001b[0m\u001b[0mfloat\u001b[0m\u001b[0;34m(\u001b[0m\u001b[0;34m)\u001b[0m \u001b[0;34m*\u001b[0m \u001b[0;34m(\u001b[0m\u001b[0;34m-\u001b[0m\u001b[0mmath\u001b[0m\u001b[0;34m.\u001b[0m\u001b[0mlog\u001b[0m\u001b[0;34m(\u001b[0m\u001b[0;36m10000.0\u001b[0m\u001b[0;34m)\u001b[0m \u001b[0;34m/\u001b[0m \u001b[0md_model\u001b[0m\u001b[0;34m)\u001b[0m\u001b[0;34m)\u001b[0m\u001b[0;34m\u001b[0m\u001b[0;34m\u001b[0m\u001b[0m\n\u001b[1;32m      4\u001b[0m \u001b[0mpe\u001b[0m\u001b[0;34m[\u001b[0m\u001b[0;34m:\u001b[0m\u001b[0;34m,\u001b[0m \u001b[0;36m0\u001b[0m\u001b[0;34m:\u001b[0m\u001b[0;34m:\u001b[0m\u001b[0;36m2\u001b[0m\u001b[0;34m]\u001b[0m \u001b[0;34m=\u001b[0m \u001b[0mtorch\u001b[0m\u001b[0;34m.\u001b[0m\u001b[0msin\u001b[0m\u001b[0;34m(\u001b[0m\u001b[0mposition\u001b[0m \u001b[0;34m*\u001b[0m \u001b[0mdiv_term\u001b[0m\u001b[0;34m)\u001b[0m  \u001b[0;31m# even\u001b[0m\u001b[0;34m\u001b[0m\u001b[0;34m\u001b[0m\u001b[0m\n\u001b[1;32m      5\u001b[0m \u001b[0mpe\u001b[0m\u001b[0;34m[\u001b[0m\u001b[0;34m:\u001b[0m\u001b[0;34m,\u001b[0m \u001b[0;36m1\u001b[0m\u001b[0;34m:\u001b[0m\u001b[0;34m:\u001b[0m\u001b[0;36m2\u001b[0m\u001b[0;34m]\u001b[0m \u001b[0;34m=\u001b[0m \u001b[0mtorch\u001b[0m\u001b[0;34m.\u001b[0m\u001b[0mcos\u001b[0m\u001b[0;34m(\u001b[0m\u001b[0mposition\u001b[0m \u001b[0;34m*\u001b[0m \u001b[0mdiv_term\u001b[0m\u001b[0;34m)\u001b[0m  \u001b[0;31m# odds\u001b[0m\u001b[0;34m\u001b[0m\u001b[0;34m\u001b[0m\u001b[0m\n",
      "\u001b[0;31mNameError\u001b[0m: name 'torch' is not defined"
     ]
    }
   ],
   "source": [
    "pe = torch.zeros(max_len, d_model)\n",
    "position = torch.arange(0, max_len, dtype=torch.float).unsqueeze(1)\n",
    "div_term = torch.exp(torch.arange(0, d_model, 2).float() * (-math.log(10000.0) / d_model))\n",
    "pe[:, 0::2] = torch.sin(position * div_term)  # even\n",
    "pe[:, 1::2] = torch.cos(position * div_term)  # odds"
   ]
  },
  {
   "cell_type": "code",
   "execution_count": 9,
   "id": "667ff044-e712-47e4-bc3c-14940694c7e7",
   "metadata": {},
   "outputs": [
    {
     "data": {
      "text/plain": [
       "(torch.Size([75, 10]),\n",
       " tensor([-0.9851,  0.1717, -0.7434,  0.6688,  0.9588, -0.2840,  0.2904,  0.9569,\n",
       "          0.0467,  0.9989]))"
      ]
     },
     "execution_count": 9,
     "metadata": {},
     "output_type": "execute_result"
    }
   ],
   "source": [
    "pe.shape, pe[-1]"
   ]
  },
  {
   "cell_type": "code",
   "execution_count": 10,
   "id": "bdb0195f-0c22-46ba-a92d-b533f9a0a189",
   "metadata": {},
   "outputs": [],
   "source": [
    "pe = torch.arange(8).view(4,2)\n",
    "pe2 = torch.flip(pe, [0])[0]"
   ]
  },
  {
   "cell_type": "code",
   "execution_count": 14,
   "id": "709479f9-7e7d-4545-8703-c6d8d6ed34b5",
   "metadata": {},
   "outputs": [
    {
     "data": {
      "text/plain": [
       "torch.Size([1, 1, 4, 2, 1])"
      ]
     },
     "execution_count": 14,
     "metadata": {},
     "output_type": "execute_result"
    }
   ],
   "source": [
    "pe = pe.unsqueeze(-1)\n",
    "pe.shape"
   ]
  },
  {
   "cell_type": "code",
   "execution_count": 49,
   "id": "31d026ea-8c27-4a0e-9fb3-05e739ec6649",
   "metadata": {},
   "outputs": [
    {
     "data": {
      "text/plain": [
       "(torch.Size([7, 1]), torch.Size([7]))"
      ]
     },
     "execution_count": 49,
     "metadata": {},
     "output_type": "execute_result"
    }
   ],
   "source": [
    "tensor = torch.cat([torch.zeros(2), torch.arange(8)])\n",
    "t2 = tensor[tensor!=0]\n",
    "t1 = tensor[tensor!=0].unsqueeze(-1)\n",
    "t1.size(), t2.size()"
   ]
  },
  {
   "cell_type": "code",
   "execution_count": 28,
   "id": "b573cede-3422-4752-a582-a68e78d82134",
   "metadata": {},
   "outputs": [],
   "source": [
    "input_shape = t1.size()  # batch x length\n",
    "seq = t1.view(-1, input_shape[-1])"
   ]
  },
  {
   "cell_type": "code",
   "execution_count": 50,
   "id": "4b081814-dc1b-480a-9dbe-9a8f7812f57c",
   "metadata": {},
   "outputs": [],
   "source": [
    "attention_mask = tensor.clone()\n",
    "attention_mask[attention_mask!=0] = 1"
   ]
  },
  {
   "cell_type": "code",
   "execution_count": 51,
   "id": "4c5c8aa5-d717-4174-84a5-32bc421ec144",
   "metadata": {},
   "outputs": [
    {
     "data": {
      "text/plain": [
       "tensor([0., 0., 0., 1., 2., 3., 4., 5., 6., 7.])"
      ]
     },
     "execution_count": 51,
     "metadata": {},
     "output_type": "execute_result"
    }
   ],
   "source": [
    "tensor"
   ]
  },
  {
   "cell_type": "code",
   "execution_count": 52,
   "id": "6c27d018-260d-4664-96ba-00e74c2d03fe",
   "metadata": {},
   "outputs": [
    {
     "data": {
      "text/plain": [
       "tensor([0., 0., 0., 1., 1., 1., 1., 1., 1., 1.])"
      ]
     },
     "execution_count": 52,
     "metadata": {},
     "output_type": "execute_result"
    }
   ],
   "source": [
    "attention_mask"
   ]
  },
  {
   "cell_type": "code",
   "execution_count": 53,
   "id": "5c83b543-086d-4730-8275-91256799cc51",
   "metadata": {},
   "outputs": [
    {
     "data": {
      "application/vnd.jupyter.widget-view+json": {
       "model_id": "81606e45c99e417793b089256571f734",
       "version_major": 2,
       "version_minor": 0
      },
      "text/plain": [
       "Downloading:   0%|          | 0.00/208k [00:00<?, ?B/s]"
      ]
     },
     "metadata": {},
     "output_type": "display_data"
    },
    {
     "data": {
      "application/vnd.jupyter.widget-view+json": {
       "model_id": "3ab127a675f14d2a924eb69a2ed32461",
       "version_major": 2,
       "version_minor": 0
      },
      "text/plain": [
       "Downloading:   0%|          | 0.00/29.0 [00:00<?, ?B/s]"
      ]
     },
     "metadata": {},
     "output_type": "display_data"
    },
    {
     "data": {
      "application/vnd.jupyter.widget-view+json": {
       "model_id": "f1ab124639734c309e8fba53bbb081f6",
       "version_major": 2,
       "version_minor": 0
      },
      "text/plain": [
       "Downloading:   0%|          | 0.00/426k [00:00<?, ?B/s]"
      ]
     },
     "metadata": {},
     "output_type": "display_data"
    },
    {
     "data": {
      "application/vnd.jupyter.widget-view+json": {
       "model_id": "5efd032302a043378e47c3297764e9b7",
       "version_major": 2,
       "version_minor": 0
      },
      "text/plain": [
       "Downloading:   0%|          | 0.00/570 [00:00<?, ?B/s]"
      ]
     },
     "metadata": {},
     "output_type": "display_data"
    }
   ],
   "source": [
    "from transformers import BertTokenizer\n",
    "\n",
    "tokenizer = BertTokenizer.from_pretrained(\"bert-base-cased\")\n",
    "\n",
    "context = tokenizer(['It will rain in the', 'It will rain in the city but not here'], return_tensors='pt', padding=True)"
   ]
  },
  {
   "cell_type": "code",
   "execution_count": 54,
   "id": "588e003b-c56a-468b-846a-1600da90c3af",
   "metadata": {},
   "outputs": [
    {
     "data": {
      "text/plain": [
       "{'input_ids': tensor([[ 101, 1135, 1209, 4458, 1107, 1103,  102,    0,    0,    0,    0],\n",
       "        [ 101, 1135, 1209, 4458, 1107, 1103, 1331, 1133, 1136, 1303,  102]]), 'token_type_ids': tensor([[0, 0, 0, 0, 0, 0, 0, 0, 0, 0, 0],\n",
       "        [0, 0, 0, 0, 0, 0, 0, 0, 0, 0, 0]]), 'attention_mask': tensor([[1, 1, 1, 1, 1, 1, 1, 0, 0, 0, 0],\n",
       "        [1, 1, 1, 1, 1, 1, 1, 1, 1, 1, 1]])}"
      ]
     },
     "execution_count": 54,
     "metadata": {},
     "output_type": "execute_result"
    }
   ],
   "source": [
    "context"
   ]
  },
  {
   "cell_type": "code",
   "execution_count": null,
   "id": "52be581a-8d43-4ae9-a60d-7f5150686be9",
   "metadata": {},
   "outputs": [],
   "source": [
    "head_mask = None"
   ]
  },
  {
   "cell_type": "code",
   "execution_count": null,
   "id": "861db97a-c098-429c-86b5-53f3250d46b4",
   "metadata": {},
   "outputs": [],
   "source": [
    "p = (head_mask[idx] if head_mask is not None else None)"
   ]
  },
  {
   "cell_type": "code",
   "execution_count": null,
   "id": "e0b2e529-1856-42a0-8807-a5fd0d75c49f",
   "metadata": {},
   "outputs": [],
   "source": []
  },
  {
   "cell_type": "code",
   "execution_count": null,
   "id": "f6008a4f-1e22-4058-83e1-5fd14897f016",
   "metadata": {},
   "outputs": [],
   "source": [
    "import os\n",
    "import sys\n",
    "import time\n",
    "from tqdm import tqdm\n",
    "\n",
    "from src.data_preprocessing import datapreproces\n",
    "from src.sampler import *\n",
    "\n",
    "os.environ['TF_FORCE_GPU_ALLOW_GROWTH'] = 'true'\n",
    "\n",
    "dataset_name =  \"Beauty\" # sys.argv[1]\n",
    "\n",
    "data, num_batch, args, ItemFeatures, CXTDict, UserFeatures = datapreproces(dataset_name)\n",
    "[user_train, user_valid, user_test, users_total_num, items_total_num] = data\n",
    "\n",
    "sampler = WarpSampler(user_train, users_total_num, items_total_num, CXTDict,\n",
    "                      args.cxt_size, batch_size=args.batch_size,\n",
    "                      maxlen=args.maxlen, n_workers=3)\n",
    "\n",
    "# model = Model(users_total_num, items_total_num, args, ItemFeatures, UserFeatures)"
   ]
  },
  {
   "cell_type": "code",
   "execution_count": null,
   "id": "910a486f-86b5-4b22-b99a-e323feb1fb00",
   "metadata": {},
   "outputs": [],
   "source": []
  },
  {
   "cell_type": "code",
   "execution_count": 55,
   "id": "1fc8d47e-4d28-4c57-84b7-b2a009caa476",
   "metadata": {
    "tags": []
   },
   "outputs": [],
   "source": [
    "batch_size=args.batch_size\n",
    "maxlen=args.maxlen\n",
    "cxtsize = args.cxt_size\n",
    "cxtdict=CXTDict"
   ]
  },
  {
   "cell_type": "code",
   "execution_count": 56,
   "id": "892ed827-a4a9-4437-9090-1e73859a8a40",
   "metadata": {},
   "outputs": [
    {
     "data": {
      "text/plain": [
       "<Process(Process-1, started daemon)>"
      ]
     },
     "execution_count": 56,
     "metadata": {},
     "output_type": "execute_result"
    }
   ],
   "source": [
    "sampler.processors[0]"
   ]
  },
  {
   "cell_type": "code",
   "execution_count": 114,
   "id": "771dc722-5e57-4dd9-8931-28316e7dfbad",
   "metadata": {},
   "outputs": [],
   "source": [
    "user = np.random.randint(1, users_total_num + 1)\n",
    "while len(user_train[user]) <= 1: user = np.random.randint(1, users_total_num + 1)"
   ]
  },
  {
   "cell_type": "code",
   "execution_count": 115,
   "id": "58912cc7-1a9f-4323-98b1-9f8efa8590cb",
   "metadata": {},
   "outputs": [
    {
     "data": {
      "text/plain": [
       "[44149, 1017, 2999]"
      ]
     },
     "execution_count": 115,
     "metadata": {},
     "output_type": "execute_result"
    }
   ],
   "source": [
    "user_train[user]"
   ]
  },
  {
   "cell_type": "code",
   "execution_count": 184,
   "id": "a1158f1c-d85f-478b-adfc-682d8661edb7",
   "metadata": {},
   "outputs": [],
   "source": [
    "def random_neq(l, r, s):\n",
    "    \"\"\" random integer between l and r but avoiding s \"\"\"\n",
    "    t = np.random.randint(l, r)\n",
    "    while t in s:\n",
    "        t = np.random.randint(l, r)\n",
    "    return t\n"
   ]
  },
  {
   "cell_type": "code",
   "execution_count": 126,
   "id": "688f3e62-68e2-4ba3-bc6c-1f8163c64a6e",
   "metadata": {
    "tags": []
   },
   "outputs": [
    {
     "name": "stdout",
     "output_type": "stream",
     "text": [
      "1017\n",
      "44149\n"
     ]
    }
   ],
   "source": [
    "# Sequence Padding\n",
    "seq = np.zeros([maxlen], dtype=np.int32)\n",
    "pos = np.zeros([maxlen], dtype=np.int32)\n",
    "neg = np.zeros([maxlen], dtype=np.int32)\n",
    "# Sequence Padding\n",
    "seqcxt = np.zeros([maxlen, cxtsize], dtype=np.float32)\n",
    "poscxt = np.zeros([maxlen, cxtsize], dtype=np.float32)\n",
    "negcxt = np.zeros([maxlen, cxtsize], dtype=np.float32)\n",
    "\n",
    "nxt = user_train[user][-1]\n",
    "idx = maxlen - 1\n",
    "\n",
    "ts = set(user_train[user])\n",
    "for i in reversed(user_train[user][:-1]):\n",
    "    print(i)"
   ]
  },
  {
   "cell_type": "code",
   "execution_count": 125,
   "id": "9718a914-9bf7-4ab9-8268-7fb1c517935e",
   "metadata": {},
   "outputs": [
    {
     "data": {
      "text/plain": [
       "((75,), 75, 6, 2999, 74, {1017, 2999, 44149})"
      ]
     },
     "execution_count": 125,
     "metadata": {},
     "output_type": "execute_result"
    }
   ],
   "source": [
    "neg.shape,maxlen, cxtsize, nxt, idx,ts"
   ]
  },
  {
   "cell_type": "code",
   "execution_count": 212,
   "id": "46d033ef-ed1d-4703-8937-8f7e73a66c65",
   "metadata": {},
   "outputs": [
    {
     "data": {
      "text/plain": [
       "[2, 5, 6, 7, 8, 9, 10, 12, 13, 14]"
      ]
     },
     "execution_count": 212,
     "metadata": {},
     "output_type": "execute_result"
    }
   ],
   "source": [
    "[k for k,v in user_train.items() if len(v) < 6][:10]"
   ]
  },
  {
   "cell_type": "code",
   "execution_count": 320,
   "id": "60396e05-7edb-4d1f-8ebe-aad8161297a1",
   "metadata": {
    "tags": []
   },
   "outputs": [
    {
     "data": {
      "text/plain": [
       "[(113, 291),\n",
       " (114, 96),\n",
       " (163, 150),\n",
       " (177, 115),\n",
       " (189, 155),\n",
       " (226, 181),\n",
       " (311, 80),\n",
       " (324, 82),\n",
       " (396, 107),\n",
       " (422, 202)]"
      ]
     },
     "execution_count": 320,
     "metadata": {},
     "output_type": "execute_result"
    }
   ],
   "source": [
    "[(k,len(v)) for k,v in user_train.items() if len(v) > 75][:10]"
   ]
  },
  {
   "cell_type": "code",
   "execution_count": null,
   "id": "208c6545-6c6d-4739-be4d-92fe152eeecb",
   "metadata": {},
   "outputs": [
    {
     "name": "stdout",
     "output_type": "stream",
     "text": [
      " The dataset Beauty contains 52204 users and 57289 items in total\n",
      "average sequence length: {5.63}\n",
      "ItemFeatures DF dimensions (57290, 6507)\n",
      "iterations_num 1469053\n"
     ]
    },
    {
     "ename": "NameError",
     "evalue": "name 'Model' is not defined",
     "output_type": "error",
     "traceback": [
      "\u001b[0;31m---------------------------------------------------------------------------\u001b[0m",
      "\u001b[0;31mNameError\u001b[0m                                 Traceback (most recent call last)",
      "\u001b[0;32m<ipython-input-48-23ad7bc85cbf>\u001b[0m in \u001b[0;36m<module>\u001b[0;34m\u001b[0m\n\u001b[1;32m     15\u001b[0m \u001b[0;34m\u001b[0m\u001b[0m\n\u001b[1;32m     16\u001b[0m \u001b[0msampler\u001b[0m \u001b[0;34m=\u001b[0m \u001b[0mWarpSampler\u001b[0m\u001b[0;34m(\u001b[0m\u001b[0muser_train\u001b[0m\u001b[0;34m,\u001b[0m \u001b[0musers_total_num\u001b[0m\u001b[0;34m,\u001b[0m \u001b[0margs\u001b[0m\u001b[0;34m,\u001b[0m \u001b[0mitems_total_num\u001b[0m\u001b[0;34m,\u001b[0m \u001b[0mCXTDict\u001b[0m\u001b[0;34m)\u001b[0m\u001b[0;34m\u001b[0m\u001b[0;34m\u001b[0m\u001b[0m\n\u001b[0;32m---> 17\u001b[0;31m \u001b[0mmodel\u001b[0m \u001b[0;34m=\u001b[0m \u001b[0mModel\u001b[0m\u001b[0;34m(\u001b[0m\u001b[0mitems_total_num\u001b[0m\u001b[0;34m,\u001b[0m \u001b[0margs\u001b[0m\u001b[0;34m,\u001b[0m \u001b[0mItemFeatures\u001b[0m\u001b[0;34m)\u001b[0m\u001b[0;34m\u001b[0m\u001b[0;34m\u001b[0m\u001b[0m\n\u001b[0m",
      "\u001b[0;31mNameError\u001b[0m: name 'Model' is not defined"
     ]
    }
   ],
   "source": [
    "import os\n",
    "import sys\n",
    "import time\n",
    "from tqdm import tqdm\n",
    "\n",
    "from src.data_preprocessing import datapreproces\n",
    "from src.sampler import *\n",
    "\n",
    "os.environ['TF_FORCE_GPU_ALLOW_GROWTH'] = 'true'\n",
    "\n",
    "dataset_name = \"Beauty\"\n",
    "\n",
    "data, num_batch, args, ItemFeatures, CXTDict, UserFeatures = datapreproces(dataset_name)\n",
    "[user_train, user_valid, user_test, users_total_num, items_total_num] = data\n",
    "\n",
    "sampler = WarpSampler(user_train, users_total_num, args, items_total_num, CXTDict)\n",
    "model = Model(items_total_num, args, ItemFeatures)\n"
   ]
  },
  {
   "cell_type": "code",
   "execution_count": null,
   "id": "2c074220-116d-42db-8d92-37d9e412dce2",
   "metadata": {},
   "outputs": [],
   "source": []
  },
  {
   "cell_type": "code",
   "execution_count": null,
   "id": "5f0bf62c-01a0-4d2c-9ea1-4cd0c809d59d",
   "metadata": {},
   "outputs": [],
   "source": []
  },
  {
   "cell_type": "markdown",
   "id": "45ddfc64-920f-4b35-af38-3f9890b302d6",
   "metadata": {},
   "source": [
    "## LOSSS"
   ]
  },
  {
   "cell_type": "code",
   "execution_count": 6,
   "id": "7135d703-062c-48a5-a846-5098828ee141",
   "metadata": {},
   "outputs": [
    {
     "data": {
      "text/plain": [
       "tensor(0.6931)"
      ]
     },
     "execution_count": 6,
     "metadata": {},
     "output_type": "execute_result"
    }
   ],
   "source": [
    "import torch.nn as nn\n",
    "class BPRLoss(nn.Module):\n",
    "    \"\"\" BPRLoss, based on Bayesian Personalized Ranking\n",
    "\n",
    "    Args:\n",
    "        - gamma(float): Small value to avoid division by zero\n",
    "\n",
    "    Shape:\n",
    "        - Pos_score: (N)\n",
    "        - Neg_score: (N), same shape as the Pos_score\n",
    "        - Output: scalar.\n",
    "    \"\"\"\n",
    "\n",
    "    def __init__(self, gamma=1e-10):\n",
    "        super(BPRLoss, self).__init__()\n",
    "        self.gamma = gamma\n",
    "\n",
    "    def forward(self, pos_score, neg_score):\n",
    "        loss = -torch.log(self.gamma + torch.sigmoid(pos_score - neg_score)).mean()\n",
    "        return loss\n",
    "loss = BPRLoss()\n",
    "loss(torch.tensor(list(range(100))), torch.tensor(list(range(100))))"
   ]
  },
  {
   "cell_type": "code",
   "execution_count": null,
   "id": "a5db2516-6d88-4d87-8750-5cc2a7d93a6c",
   "metadata": {},
   "outputs": [],
   "source": []
  }
 ],
 "metadata": {
  "kernelspec": {
   "display_name": "Python 3 (ipykernel)",
   "language": "python",
   "name": "python3"
  },
  "language_info": {
   "codemirror_mode": {
    "name": "ipython",
    "version": 3
   },
   "file_extension": ".py",
   "mimetype": "text/x-python",
   "name": "python",
   "nbconvert_exporter": "python",
   "pygments_lexer": "ipython3",
   "version": "3.8.10"
  }
 },
 "nbformat": 4,
 "nbformat_minor": 5
}
