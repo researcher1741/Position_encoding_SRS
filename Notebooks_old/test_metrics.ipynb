{
 "cells": [
  {
   "cell_type": "code",
   "execution_count": 1,
   "id": "f7ab90ca-4f9d-4a45-9f97-9f73eac603a2",
   "metadata": {},
   "outputs": [],
   "source": [
    "import numpy as np\n",
    "import torch"
   ]
  },
  {
   "cell_type": "code",
   "execution_count": 2,
   "id": "4d267bac-5306-4d90-9c8e-e377e3a529b6",
   "metadata": {},
   "outputs": [],
   "source": [
    "def get_max(logits):\n",
    "    \"\"\" logits: B x L X V   --- >   items: argmax -> B x L X 1 \"\"\"\n",
    "    return torch.argmax(logits, dim=-1, keepdim=True)  # B x L X 1"
   ]
  },
  {
   "cell_type": "code",
   "execution_count": 3,
   "id": "a05394b2-b7c4-4504-8203-be06afbd812f",
   "metadata": {},
   "outputs": [],
   "source": [
    "\"\"\"\n",
    "###########    EXAMPLE    ###########\n",
    "logits = np.array([[[0.5, 0.2, 0.2], [0.3, 0.4, 0.2], [0.2, 0.84, 0.3], [0.87, 0.29, 0.1]],\n",
    "                   [[0.5, 0.2, 0.2], [0.3, 0.4, 0.2], [0.2, 0.84, 0.3], [0.87, 0.29, 0.91]],\n",
    "                   [[0.1, 0.2, 0.292], [0.3, 0.2, 0.2], [0.6, 0.36, 0.3], [0.37, 0.42, 0.122]]])\n",
    "logits = torch.tensor(logits)\n",
    "\n",
    "\n",
    "\n",
    "M = SRS_Metrics(reverse=True, k=2)\n",
    "score = logits\n",
    "true = torch.tensor([1, 2, 2])\n",
    "M.HIT(true, score), M.NDCG_HIT(true, score), M.NDCG(true, score)\n",
    "\n",
    "\"\"\"\n",
    "import torch\n",
    "import numpy as np\n",
    "\n",
    "\n",
    "class SRS_Metrics:\n",
    "    def __init__(self, device, myformat, reverse=True, k=10):\n",
    "        self.target_position = -1 if reverse else 0\n",
    "        self.device = device\n",
    "        self.myformat = myformat  # np.array or torch.tensor\n",
    "        self.k = k\n",
    "\n",
    "    def check(self, true, score):\n",
    "        \"\"\"\n",
    "        Returns the tensors and the number of dimensions.\n",
    "        score: B x V or B x L x V\n",
    "        true: B or B x V\n",
    "        \"\"\"\n",
    "        # Data type correction\n",
    "        if torch.is_tensor(score) and torch.is_tensor(true):\n",
    "            length_score = len(score.size())\n",
    "            length_true = len(true.size())\n",
    "        elif isinstance(score, (np.ndarray, np.generic)) and isinstance(true, (np.ndarray, np.generic)):\n",
    "            length_score = len(score.shape)\n",
    "            length_true = len(true.shape)\n",
    "            true = torch.tensor(true)\n",
    "            score = torch.tensor(score)\n",
    "        elif isinstance(true, (np.ndarray, np.generic)):\n",
    "            true = torch.tensor(true)\n",
    "            length_true = len(true.size())\n",
    "            length_score = len(score.size())\n",
    "        elif isinstance(score, (np.ndarray, np.generic)):\n",
    "            score = torch.tensor(score)\n",
    "            length_score = len(score.size())\n",
    "            length_true = len(true.size())\n",
    "\n",
    "        if true.get_device() != self.device:  true = true.to(self.device)\n",
    "        if score.get_device() != self.device:  score = score.to(self.device)\n",
    "\n",
    "        # Dimension correction\n",
    "        if length_score == 3:\n",
    "            score = score[:, self.target_position, :]\n",
    "        if length_true == 2:\n",
    "            true = true[:, self.target_position]\n",
    "        # Top \n",
    "        _, indices = torch.topk(score, self.k)\n",
    "        return score, true, indices\n",
    "\n",
    "    def HIT(self, true, score, indices=None):\n",
    "        \"\"\"\n",
    "        Returns the Hit Ratio on the top k for numpy arrays and torch tensors.\n",
    "        score: B x V or B x L x V\n",
    "        true: B or B x V\n",
    "        \"\"\"\n",
    "        if indices is None:\n",
    "            score, true, indices = self.check(true, score)\n",
    "        return (indices == true.reshape(-1, 1)).any(1).float().mean()\n",
    "\n",
    "    def NDCG(self, true, score, indices=None):\n",
    "        \"\"\"\n",
    "        Returns the Normalized Discount Cumulative Gain (NDCG) on the top k for numpy arrays and torch tensors.\n",
    "        score: B x V or B x L x V\n",
    "        true: B or B x V\n",
    "        \"\"\"\n",
    "        if indices is None:\n",
    "            score, true, indices = self.check(true, score)\n",
    "        matches_matrix = (indices == true.reshape(-1, 1)).float()\n",
    "        idcg_normalizator = torch.div(1, torch.log2(torch.arange(2, 2 + matches_matrix.shape[-1]))).to(self.device)\n",
    "        return torch.mul(matches_matrix, idcg_normalizator).sum(-1).mean()\n",
    "\n",
    "    def NDCG_HIT(self, true, score, indices=None):\n",
    "        \"\"\" Both previous metrics together \"\"\"\n",
    "        if indices is None:\n",
    "            score, true, indices = self.check(true, score)\n",
    "        print(f\"true {true}\")\n",
    "        print(f\"score {score}\")\n",
    "        HIT = self.HIT(true, score, indices)\n",
    "        NDCG = self.NDCG(true, score, indices)\n",
    "        if self.myformat == np.array:\n",
    "            HIT = HIT.cpu().detach().numpy()\n",
    "            NDCG = NDCG.cpu().detach().numpy()\n",
    "        return NDCG, HIT\n"
   ]
  },
  {
   "cell_type": "code",
   "execution_count": 4,
   "id": "3e5a8ad7-ba63-4838-91a7-107b423e480e",
   "metadata": {},
   "outputs": [],
   "source": [
    "metrics_calculator = SRS_Metrics(device=\"cpu\", myformat=np.array, reverse=True, k=4)"
   ]
  },
  {
   "cell_type": "code",
   "execution_count": 5,
   "id": "69cfe8f5-ff06-4196-8560-78578566bfa5",
   "metadata": {},
   "outputs": [
    {
     "name": "stdout",
     "output_type": "stream",
     "text": [
      "torch.Size([2, 3]) torch.Size([2, 3, 3])\n",
      "true tensor([1., 1.])\n",
      "score tensor([[0.3700, 0.4200, 0.1220, 0.2700, 0.1900, 0.1000],\n",
      "        [0.3700, 0.2600, 0.0000, 0.2700, 0.1900, 0.0000]])\n"
     ]
    },
    {
     "data": {
      "text/plain": [
       "(array(0.75, dtype=float32), array(1., dtype=float32))"
      ]
     },
     "execution_count": 5,
     "metadata": {},
     "output_type": "execute_result"
    }
   ],
   "source": [
    "metrics_calculator = SRS_Metrics(device=\"cpu\", myformat=np.array, reverse=True, k=4)\n",
    "y_true = torch.tensor([[0, 2, 1], [1, 2, 1]]).float()\n",
    "\n",
    "y_score = torch.tensor([[   [0.8700, 0.0000, 0.1000, 0.0223, 0.0223, 0.0223],\n",
    "                            [0.2700, 0.1900, 0.0000,0.1700, 0.0000, 0.2100],\n",
    "                            [0.3700, 0.4200, 0.1220, 0.2700, 0.1900,  0.1000]],\n",
    "                           [[0.8700, 0.0000, 0.1000, 0.0223, 0.0223, 0.0223],\n",
    "                            [0.2700, 0.1900, 0.0000,0.0000, 0.1200, 0.2100],\n",
    "                            [0.3700, 0.2600, 0.0000, 0.2700, 0.1900,  0.0000]]]).float()\n",
    "\n",
    "\n",
    "b = torch.tensor([[   [0.8700, 0.2900, 0.1000],\n",
    "                            [0.2700, 0.1900, 0.0100],\n",
    "                            [0.3700, 0.4200, 0.1220]],\n",
    "                           [[0.8700, 0.2900, 0.1000],\n",
    "                            [0.2700, 0.1900, 0.0100],\n",
    "                            [0.3700, 0.2600, 0.1220]]]).float()\n",
    "# b = torch.tensor([[0.8700,0.2700, 0.0223],\n",
    "#                   [0.2700, 0.1900, 0.0100]])\n",
    "a = torch.tensor([[3, 2, 1], [1, 2, 0]])\n",
    "c = torch.tensor([[3, 2, 1], [1, 2, 0]]).reshape(2,3,1)\n",
    "print(a.size(), b.size())\n",
    "NDCG, HIT = metrics_calculator.NDCG_HIT(true=y_true, score=y_score)  # [B x L], [B x L x V]\n",
    "NDCG, HIT"
   ]
  },
  {
   "cell_type": "code",
   "execution_count": 6,
   "id": "1f39f2d8-95da-495c-b7c3-14302b472158",
   "metadata": {},
   "outputs": [],
   "source": [
    "import tensorflow as tf"
   ]
  },
  {
   "cell_type": "code",
   "execution_count": 161,
   "id": "a487dd7d-ab70-4709-b4e7-d17c68e7debc",
   "metadata": {},
   "outputs": [
    {
     "data": {
      "text/plain": [
       "(<tf.Tensor: shape=(6,), dtype=float32, numpy=array([1., 1., 1., 1., 1., 0.], dtype=float32)>,\n",
       " tensor([[3, 2, 1],\n",
       "         [1, 2, 0]]))"
      ]
     },
     "execution_count": 161,
     "metadata": {},
     "output_type": "execute_result"
    }
   ],
   "source": [
    "# a = a[:, :, None]\n",
    "istarget = tf.reshape(tf.cast(tf.not_equal(a, 0), dtype=float), [tf.shape(a)[0] * tf.shape(a)[1]])\n",
    "istarget, a"
   ]
  },
  {
   "cell_type": "code",
   "execution_count": 164,
   "id": "1f224ba2-49ba-4a92-ac0d-693aea45dad3",
   "metadata": {},
   "outputs": [
    {
     "name": "stdout",
     "output_type": "stream",
     "text": [
      "13\n",
      "13\n",
      "13\n",
      "13\n",
      "13\n",
      "13\n",
      "13\n",
      "13\n",
      "13\n",
      "13\n",
      "13\n",
      "13\n",
      "13\n",
      "13\n",
      "13\n",
      "13\n",
      "13\n",
      "13\n",
      "13\n",
      "13\n"
     ]
    }
   ],
   "source": [
    "unum = 13\n",
    "for _ in range(20):\n",
    "    print(max([np.random.randint(1, unum + 1) for _ in range(100)]))"
   ]
  },
  {
   "cell_type": "code",
   "execution_count": 159,
   "id": "d4a1f2e0-9649-4e97-967b-d55bc97ef025",
   "metadata": {},
   "outputs": [],
   "source": [
    "score = np.array([[1.0, 5, 2.0], [3.0, 3.1, 4.0]])\n",
    "NDCG, HT, valid_user = 0.0, 0.0, 0.0\n",
    "k = 2\n",
    "B = score.shape[0]\n",
    "# take the maximum of the negatives, i.e., the minimum, and then again to get the ranking value\n",
    "rank_of_the_first_item = np.argsort(np.argsort(-score, axis=-1), axis=-1)[:, 0]\n",
    "for i in rank_of_the_first_item:\n",
    "    if i < k:\n",
    "        NDCG += 1 / np.log2(i + 2)\n",
    "        HT += 1\n",
    "        print(HT, NDCG)\n",
    "HT /= B\n",
    "NDCG /= B"
   ]
  },
  {
   "cell_type": "code",
   "execution_count": 160,
   "id": "84daafc9-1528-488d-b758-78dd92f5c285",
   "metadata": {},
   "outputs": [
    {
     "data": {
      "text/plain": [
       "(0.0, 0.0)"
      ]
     },
     "execution_count": 160,
     "metadata": {},
     "output_type": "execute_result"
    }
   ],
   "source": [
    "HT, NDCG"
   ]
  },
  {
   "cell_type": "code",
   "execution_count": 117,
   "id": "5d215788-cd10-4951-a875-10e31955998c",
   "metadata": {},
   "outputs": [
    {
     "name": "stdout",
     "output_type": "stream",
     "text": [
      "[[-1.  -5.  -2. ]\n",
      " [-3.  -3.1 -4. ]]\n",
      "[[1.  5.  2. ]\n",
      " [3.  3.1 4. ]]\n",
      "rank_of_the_first_item [2 0 1]\n"
     ]
    },
    {
     "ename": "ValueError",
     "evalue": "The truth value of an array with more than one element is ambiguous. Use a.any() or a.all()",
     "output_type": "error",
     "traceback": [
      "\u001b[0;31m---------------------------------------------------------------------------\u001b[0m",
      "\u001b[0;31mValueError\u001b[0m                                Traceback (most recent call last)",
      "Cell \u001b[0;32mIn[117], line 16\u001b[0m\n\u001b[1;32m     12\u001b[0m \u001b[38;5;28mprint\u001b[39m(\u001b[38;5;124m\"\u001b[39m\u001b[38;5;124mrank_of_the_first_item\u001b[39m\u001b[38;5;124m\"\u001b[39m,rank_of_the_first_item)\n\u001b[1;32m     14\u001b[0m valid_user \u001b[38;5;241m+\u001b[39m\u001b[38;5;241m=\u001b[39m \u001b[38;5;241m1\u001b[39m\n\u001b[0;32m---> 16\u001b[0m \u001b[38;5;28;01mif\u001b[39;00m rank_of_the_first_item \u001b[38;5;241m<\u001b[39m \u001b[38;5;241m10\u001b[39m:\n\u001b[1;32m     17\u001b[0m     NDCG \u001b[38;5;241m+\u001b[39m\u001b[38;5;241m=\u001b[39m \u001b[38;5;241m1\u001b[39m \u001b[38;5;241m/\u001b[39m np\u001b[38;5;241m.\u001b[39mlog2(rank_of_the_first_item \u001b[38;5;241m+\u001b[39m \u001b[38;5;241m2\u001b[39m)\n\u001b[1;32m     18\u001b[0m     HT \u001b[38;5;241m+\u001b[39m\u001b[38;5;241m=\u001b[39m \u001b[38;5;241m1\u001b[39m\n",
      "\u001b[0;31mValueError\u001b[0m: The truth value of an array with more than one element is ambiguous. Use a.any() or a.all()"
     ]
    }
   ],
   "source": [
    "NDCG, HT, valid_user = 0.0, 0.0, 0.0\n",
    "predictions = np.array([[1.0, 5, 2.0], [3.0, 3.1, 4.0]])\n",
    "predictions = -predictions\n",
    "print(predictions)\n",
    "# Take the first line\n",
    "predictions = predictions\n",
    "# score = -prediction. The real values\n",
    "score = -predictions.copy()\n",
    "print(score)\n",
    "# take the maximum of the negatives, i.e., the minimum\n",
    "rank_of_the_first_item = predictions.argsort().argsort()[0]\n",
    "print(\"rank_of_the_first_item\",rank_of_the_first_item)\n",
    "\n",
    "valid_user += 1\n",
    "\n",
    "if rank_of_the_first_item < 10:\n",
    "    NDCG += 1 / np.log2(rank_of_the_first_item + 2)\n",
    "    HT += 1"
   ]
  },
  {
   "cell_type": "code",
   "execution_count": 110,
   "id": "374f4113-8c2a-4b8b-a75d-110a820e2d9f",
   "metadata": {},
   "outputs": [
    {
     "data": {
      "text/plain": [
       "2"
      ]
     },
     "execution_count": 110,
     "metadata": {},
     "output_type": "execute_result"
    }
   ],
   "source": [
    "rank_of_the_first_item"
   ]
  },
  {
   "cell_type": "code",
   "execution_count": 45,
   "id": "153372c6-7553-4dd5-b934-e971d435fcb6",
   "metadata": {},
   "outputs": [],
   "source": [
    "usernum = 10\n",
    "size = 5\n",
    "import random\n",
    "if usernum > size:\n",
    "    users = random.sample(range(1, usernum + 1), size)"
   ]
  },
  {
   "cell_type": "code",
   "execution_count": 70,
   "id": "0410b1eb-d332-448e-99c7-ab41cb787572",
   "metadata": {},
   "outputs": [],
   "source": [
    "users = (np.random.randint(1, usernum) for _ in range(size))\n",
    "def random_neq(l, r, s):\n",
    "    \"\"\" random integer between l and r but avoiding s \"\"\"\n",
    "    t = np.random.randint(l, r)\n",
    "    while t in s:\n",
    "        t = np.random.randint(l, r)\n",
    "    return t\n",
    "users = (random_neq(1,9, set({2,3,4,5})) for _ in range(10))"
   ]
  },
  {
   "cell_type": "code",
   "execution_count": 72,
   "id": "24a975fb-a688-4a3d-b2e3-5dc3d84ad0d5",
   "metadata": {},
   "outputs": [
    {
     "data": {
      "text/plain": [
       "[8, 7, 8, 8, 1, 6, 7, 6, 1]"
      ]
     },
     "execution_count": 72,
     "metadata": {},
     "output_type": "execute_result"
    }
   ],
   "source": [
    "list(users)"
   ]
  },
  {
   "cell_type": "code",
   "execution_count": 36,
   "id": "ffe70ccb-d9cf-40a0-8116-077cfe32245e",
   "metadata": {},
   "outputs": [
    {
     "data": {
      "text/plain": [
       "array([1, 2, 0])"
      ]
     },
     "execution_count": 36,
     "metadata": {},
     "output_type": "execute_result"
    }
   ],
   "source": [
    "predictions.argsort()"
   ]
  },
  {
   "cell_type": "code",
   "execution_count": 87,
   "id": "dc0cca8d-7b7c-4517-a81e-6848ea05d773",
   "metadata": {},
   "outputs": [
    {
     "data": {
      "text/plain": [
       "(tensor(2.7791),\n",
       " tensor([[0.9526, 0.8808, 0.7311],\n",
       "         [0.7311, 0.8808, 0.5000]]))"
      ]
     },
     "execution_count": 87,
     "metadata": {},
     "output_type": "execute_result"
    }
   ],
   "source": [
    "def binary_cross_entropy(pred, y): return -((pred + 1e-24).log() * y + (1 - y) * (1 - pred + 1e-24).log()).sum()\n",
    "pos_emb = torch.tensor([[3, 2, 1], [1, 2, 0]])\n",
    "# pos_emb = pos_emb.view(-1)\n",
    "pos_emb = torch.sigmoid(pos_emb)\n",
    "binary_cross_entropy(pos_emb, pos_emb), pos_emb"
   ]
  },
  {
   "cell_type": "code",
   "execution_count": 84,
   "id": "a5142438-7bd4-425a-a49d-025e19ed4488",
   "metadata": {},
   "outputs": [
    {
     "data": {
      "text/plain": [
       "tensor([[1., 1., 1.],\n",
       "        [1., 1., 0.]])"
      ]
     },
     "execution_count": 84,
     "metadata": {},
     "output_type": "execute_result"
    }
   ],
   "source": [
    "def get_mask(tensor):\n",
    "    return tensor[tensor != 0].unsqueeze(-1)\n",
    "pos_emb.to(torch.bool).float()"
   ]
  },
  {
   "cell_type": "code",
   "execution_count": 47,
   "id": "ba0a5e9f-104d-41fc-9473-e0c1bd76b078",
   "metadata": {},
   "outputs": [],
   "source": [
    "\n",
    "from typing import Optional, Tuple, Any\n",
    "def _expand_mask(mask: torch.Tensor, dtype: torch.dtype, tgt_len: Optional[int] = None):\n",
    "    \"\"\"\n",
    "    Expands attention_mask from `[bsz, seq_len]` to `[bsz, 1, tgt_seq_len, src_seq_len]`.\n",
    "    \"\"\"\n",
    "    bsz, src_len = mask.size()\n",
    "    tgt_len = tgt_len if tgt_len is not None else src_len\n",
    "\n",
    "    expanded_mask = mask[:, None, None, :].expand(bsz, 1, tgt_len, src_len).to(dtype)\n",
    "\n",
    "    inverted_mask = 1.0 - expanded_mask\n",
    "\n",
    "    return inverted_mask.masked_fill(inverted_mask.to(torch.bool), torch.finfo(dtype).min)\n",
    "\n",
    "def get_attetion_mask(inputs_ids, inputs_embeds):\n",
    "    attention_mask = inputs_ids.clone()\n",
    "    attention_mask[attention_mask != 0] = 1\n",
    "    return _expand_mask(attention_mask, inputs_embeds.dtype)"
   ]
  },
  {
   "cell_type": "code",
   "execution_count": 48,
   "id": "a47005e1-e02a-4200-8798-7fc30a29c262",
   "metadata": {},
   "outputs": [
    {
     "data": {
      "text/plain": [
       "tensor([[[[-3.4028e+38,  0.0000e+00,  0.0000e+00],\n",
       "          [-3.4028e+38,  0.0000e+00,  0.0000e+00],\n",
       "          [-3.4028e+38,  0.0000e+00,  0.0000e+00]]],\n",
       "\n",
       "\n",
       "        [[[ 0.0000e+00,  0.0000e+00,  0.0000e+00],\n",
       "          [ 0.0000e+00,  0.0000e+00,  0.0000e+00],\n",
       "          [ 0.0000e+00,  0.0000e+00,  0.0000e+00]]]])"
      ]
     },
     "execution_count": 48,
     "metadata": {},
     "output_type": "execute_result"
    }
   ],
   "source": [
    "get_attetion_mask(y_true, y_true)"
   ]
  },
  {
   "cell_type": "code",
   "execution_count": 54,
   "id": "dd859f2d-01fa-4439-9827-a27aba273b1c",
   "metadata": {},
   "outputs": [
    {
     "data": {
      "text/plain": [
       "tensor([[0., 4., 2.],\n",
       "        [2., 4., 2.]])"
      ]
     },
     "execution_count": 54,
     "metadata": {},
     "output_type": "execute_result"
    }
   ],
   "source": [
    "y_true * y_true.to(torch.bool).float()"
   ]
  },
  {
   "cell_type": "code",
   "execution_count": null,
   "id": "d4f5ef79-265b-4025-a954-31a20284d278",
   "metadata": {},
   "outputs": [],
   "source": []
  },
  {
   "cell_type": "code",
   "execution_count": 9,
   "id": "434e7c6c-7de8-44ed-b892-c508ca240438",
   "metadata": {},
   "outputs": [
    {
     "data": {
      "text/plain": [
       "torch.Size([2, 6, 3])"
      ]
     },
     "execution_count": 9,
     "metadata": {},
     "output_type": "execute_result"
    }
   ],
   "source": [
    "torch.permute(y_score, (0, 2, 1)).size()"
   ]
  },
  {
   "cell_type": "code",
   "execution_count": 207,
   "id": "869f8f99-f01e-4be8-9f47-014f10025c00",
   "metadata": {},
   "outputs": [
    {
     "data": {
      "text/plain": [
       "array([[1, 2, 0],\n",
       "       [2, 0, 1],\n",
       "       [0, 2, 1],\n",
       "       [2, 1, 0]])"
      ]
     },
     "execution_count": 207,
     "metadata": {},
     "output_type": "execute_result"
    }
   ],
   "source": [
    "y_score = np.array([[0.5, 0.2, 0.2],  # 0 is in top 2\n",
    "                 [0.3, 0.4, 0.2],  # 1 is in top 2\n",
    "                 [0.2, 0.4, 0.3],  # 2 is in top 2\n",
    "                 [0.7, 0.2, 0.1]]) # 2 isn't in top 2\n",
    "np.argpartition(y_score,-2)"
   ]
  },
  {
   "cell_type": "code",
   "execution_count": null,
   "id": "c1353c2f-d2c2-41b2-ade6-7e74bb5a36a5",
   "metadata": {},
   "outputs": [],
   "source": [
    "\n",
    "   test_seq: tensor([47484, 16289,  7157,  2045,  7369, 19901, 30601, 46404, 25635,  9169,\n",
    "        20962, 49880, 44097, 46088, 23853, 33111, 32175, 34216, 26956,  6582,\n",
    "        44620,  6318, 49679, 42857, 45715, 26650, 23133, 16790, 14568, 14869,\n",
    "        24371, 42534, 30484, 52893, 12467, 28804, 18231, 17863, 43356, 31260,\n",
    "        33540, 21910, 30796, 49069,  8771, 11094, 46572,   194, 34776, 17570,\n",
    "        51547, 11191, 42753, 32328, 42071, 20390, 40198,  2262, 52889, 28370,\n",
    "        26513,  6717, 21260, 28934, 41690,  4379, 40584, 46547, 19836, 29034,\n",
    "        24001, 45497, 10333, 42605,  2801], device='cuda:0')\n",
    "   seq: tensor([    0,     0,     0,     0,     0,     0,     0,     0,     0,     0,\n",
    "            0,     0,     0,     0,     0,     0,     0,     0,     0,     0,\n",
    "            0,     0,     0,     0,     0,     0,     0,     0,     0,     0,\n",
    "            0,     0,     0,     0,     0, 12888, 49583,     1,  4733,  5761,\n",
    "        10845, 11210, 26875, 37882, 39167, 39988, 43922, 45974, 47202, 47483,\n",
    "        47849, 48131, 48895, 52222, 34944, 50059,  4489,  5910, 11663, 12147,\n",
    "        12956, 32489, 37163, 44593, 48076, 54035,  3180,  4824, 14847, 17019,\n",
    "        31989, 33412, 40168, 45056, 48406], device='cuda:0')"
   ]
  }
 ],
 "metadata": {
  "kernelspec": {
   "display_name": "Python 3 (ipykernel)",
   "language": "python",
   "name": "python3"
  },
  "language_info": {
   "codemirror_mode": {
    "name": "ipython",
    "version": 3
   },
   "file_extension": ".py",
   "mimetype": "text/x-python",
   "name": "python",
   "nbconvert_exporter": "python",
   "pygments_lexer": "ipython3",
   "version": "3.8.10"
  }
 },
 "nbformat": 4,
 "nbformat_minor": 5
}
