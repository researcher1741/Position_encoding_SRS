{
 "cells": [
  {
   "cell_type": "markdown",
   "id": "b3ed80ac-f5d1-4965-896b-8fe69091ae5f",
   "metadata": {},
   "source": [
    "### Data evaluation (mainly sampling)"
   ]
  },
  {
   "cell_type": "code",
   "execution_count": 6,
   "id": "fdc3b4fa-e45e-496a-be03-7942f146e2c0",
   "metadata": {},
   "outputs": [],
   "source": [
    "dataset_name = \"Beauty\"\n",
    "from tqdm import tqdm\n",
    "from src.data_preprocessing import *\n",
    "from src.config import *\n",
    "from src.train import *\n",
    "from src.sampler import *\n",
    "from src.utils import *"
   ]
  },
  {
   "cell_type": "code",
   "execution_count": 7,
   "id": "5a6c672c-0862-498a-8fc5-25641388085c",
   "metadata": {},
   "outputs": [],
   "source": [
    "def random_neq(l, r, s):\n",
    "    \"\"\" random integer between l and r but avoiding s \"\"\"\n",
    "    t = np.random.randint(l, r)\n",
    "    while t in s:\n",
    "        t = np.random.randint(l, r)\n",
    "    return t"
   ]
  },
  {
   "cell_type": "code",
   "execution_count": 10,
   "id": "a7f536b1-9e63-47d8-94e7-8c577ceb624f",
   "metadata": {},
   "outputs": [],
   "source": [
    "def evaluate_valid(model, dataset, args, cxtdict, cxtsize):\n",
    "    [train, validation, _, unum, inum] = copy.deepcopy(dataset)\n",
    "    NDCG, HT, valid_user, Auc = 0.0, 0.0, 0.0, 0.0\n",
    "    metrics = (NDCG, HT, valid_user, Auc)\n",
    "    return validation_sample(train, args, validation, unum, inum, cxtdict, cxtsize, metrics, \"validation\", model)\n",
    "\n",
    "\n",
    "def validation_sample(train, args, validation, users_total_num, items_total_num, cxtdict,\n",
    "                      cxtsize, metrics, case, model, negnum=100):\n",
    "    \"\"\"\n",
    "    This creates an example for validation or testing.\n",
    "    :param train: reference dataset, Dict[int:List[int]]\n",
    "    :param args: Args object with the configuration\n",
    "    :param validation: validation/test dataset, Dict[int:List[int]]\n",
    "    :param users_total_num: number of users\n",
    "    :param items_total_num: number of items\n",
    "    :param cxtdict: Dict[tuple: List[float]]\n",
    "    :param cxtsize: number of context features (amazon 6)\n",
    "    :param metrics: (NDCG, HT, valid_user, Auc)\n",
    "    :param case: if it is validation or test, str\n",
    "    :param negnum: number of negative examples to be created\n",
    "    :return:\n",
    "    \"\"\"\n",
    "    # users to be used\n",
    "    list_users = (np.random.randint(1, users_total_num + 1) for _ in range(10000)) if users_total_num > 10000 \\\n",
    "        else range(1, users_total_num + 1)\n",
    "\n",
    "    for u in list_users:\n",
    "        # Skip when it is too short\n",
    "        if len(train[u]) < 1 or len(validation[u]) < 1: continue\n",
    "\n",
    "        # Init sequences with padding\n",
    "        seq = np.zeros([args.maxlen], dtype=np.int32)\n",
    "        seqcxt = np.zeros([args.maxlen, cxtsize], dtype=np.int32)\n",
    "\n",
    "        # Init output sequence\n",
    "        testitemscxt = list()\n",
    "        idx = args.maxlen - 1\n",
    "\n",
    "        # we add one item for the validation case: seq and context\n",
    "        if not case.lower() == \"validation\":\n",
    "            seq[idx] = validation[u][0]\n",
    "            seqcxt[idx] = cxtdict[(u, validation[u][0])]\n",
    "            idx -= 1\n",
    "\n",
    "        for i in reversed(train[u]):\n",
    "            # MAIN\n",
    "            seq[idx] = i\n",
    "            # CXT\n",
    "            seqcxt[idx] = cxtdict[(u, i)]\n",
    "            # LOOP UPDATE\n",
    "            idx -= 1\n",
    "            if idx == -1: break\n",
    "\n",
    "        rated = set(train[u])\n",
    "        rated.add(0)\n",
    "        item_idx = [validation[u][0]]\n",
    "        testitemscxt.append(cxtdict[(u, validation[u][0])])\n",
    "\n",
    "        # negative examples loop\n",
    "        for _ in range(negnum):\n",
    "            t = random_neq(1, items_total_num + 1, rated)\n",
    "            item_idx.append(t)\n",
    "            testitemscxt.append(cxtdict[(u, validation[u][0])])\n",
    "            (NDCG, HT, valid_user, Auc) = metrics_computation(model, metrics, u, seq, item_idx, seqcxt, testitemscxt)\n",
    "\n",
    "    return NDCG / valid_user, HT / valid_user, Auc / valid_user\n"
   ]
  },
  {
   "cell_type": "code",
   "execution_count": 11,
   "id": "82da616d-0397-49ea-baee-1449e542cc24",
   "metadata": {},
   "outputs": [
    {
     "name": "stdout",
     "output_type": "stream",
     "text": [
      " The dataset Beauty contains 52204 users and 57289 items in total\n",
      "average sequence length: {5.63}\n",
      "ItemFeatures DF dimensions (57290, 6507)\n"
     ]
    }
   ],
   "source": [
    "data, num_batch, args, ItemFeatures, CXTDict, UserFeatures = datapreproces(dataset_name)\n",
    "[user_train, user_valid, user_test, users_total_num, items_total_num] = data"
   ]
  },
  {
   "cell_type": "code",
   "execution_count": 12,
   "id": "ae35b2bc-c10d-484c-8311-6c26c3134556",
   "metadata": {},
   "outputs": [],
   "source": [
    "dataset_to_compare = user_valid\n",
    "train = user_train\n",
    "case = \"test\"\n",
    "cxtsize = args.cxt_size\n",
    "cxtdict = CXTDict\n",
    "negnum=100"
   ]
  },
  {
   "cell_type": "code",
   "execution_count": 14,
   "id": "f5f14c2e-699f-4db7-a85f-f6feccd0a705",
   "metadata": {},
   "outputs": [],
   "source": [
    "list_users = (np.random.randint(1, users_total_num + 1) for _ in range(10000)) if users_total_num > 10000 \\\n",
    "        else range(1, users_total_num + 1)"
   ]
  },
  {
   "cell_type": "code",
   "execution_count": 20,
   "id": "bfb629d3-bafb-436f-b797-ec1ce91519ba",
   "metadata": {},
   "outputs": [
    {
     "name": "stdout",
     "output_type": "stream",
     "text": [
      "[21853]\n",
      "idx 74\n",
      "rated {0, 16616, 19412, 15705, 11259}\n"
     ]
    }
   ],
   "source": [
    "for u in list_users:\n",
    "    u = 34942\n",
    "    # Skip when it is too short\n",
    "    if len(train[u]) < 1 or len(dataset_to_compare[u]) < 1: continue\n",
    "\n",
    "    # Init sequences with padding\n",
    "    seq = np.zeros([args.maxlen], dtype=np.int32)\n",
    "    seqcxt = np.zeros([args.maxlen, cxtsize], dtype=np.int32)\n",
    "\n",
    "    # Init output sequence\n",
    "    testitemscxt = list()\n",
    "    print(dataset_to_compare[u])\n",
    "    idx = args.maxlen - 1\n",
    "    print(\"idx\", idx)\n",
    "    \n",
    "    if not case.lower() == \"validation\":\n",
    "        seq[idx] = dataset_to_compare[u][0]\n",
    "        # Cxt\n",
    "        seqcxt[idx] = cxtdict[(u, dataset_to_compare[u][0])]\n",
    "        idx -= 1\n",
    "    \n",
    "    for i in reversed(train[u]):\n",
    "        seq[idx] = i\n",
    "        # Cxt\n",
    "        seqcxt[idx] = cxtdict[(u, i)]\n",
    "        idx -= 1\n",
    "        if idx == -1: break\n",
    "    \n",
    "    rated = set(train[u])\n",
    "    rated.add(0)\n",
    "    print(\"rated\", rated)\n",
    "    item_idx = [dataset_to_compare[u][0]]\n",
    "    # testitemscxt.append(cxtdict[(u, dataset_to_compare[u][0])])\n",
    "    # for _ in range(negnum):\n",
    "    #     t = np.random.randint(1, items_total_num + 1)\n",
    "    #     while t in rated: t = np.random.randint(1, items_total_num + 1)\n",
    "    #     item_idx.append(t)\n",
    "    #     testitemscxt.append(cxtdict[(u, dataset_to_compare[u][0])])\n",
    "    break"
   ]
  },
  {
   "cell_type": "markdown",
   "id": "48bfafaa-74a7-47e3-8b28-0f027eec476d",
   "metadata": {
    "tags": []
   },
   "source": [
    "#### SAMPLERS AND DATALOADERS"
   ]
  },
  {
   "cell_type": "code",
   "execution_count": 59,
   "id": "4d4bcb71-e2cb-466e-90d2-455906756d2d",
   "metadata": {
    "tags": []
   },
   "outputs": [
    {
     "name": "stdout",
     "output_type": "stream",
     "text": [
      " The dataset Beauty contains 52204 users and 57289 items in total\n",
      "average sequence length: {5.63}\n",
      "ItemFeatures DF dimensions (57290, 6507)\n"
     ]
    }
   ],
   "source": [
    "data, num_batch, args, ItemFeatures, CXTDict, UserFeatures = datapreproces(dataset_name)\n",
    "[user_train, user_valid, user_test, users_total_num, items_total_num] = data"
   ]
  },
  {
   "cell_type": "code",
   "execution_count": 60,
   "id": "bf373ddf-2c59-4dc8-bad4-9599b886e789",
   "metadata": {},
   "outputs": [
    {
     "data": {
      "text/plain": [
       "'Beauty'"
      ]
     },
     "execution_count": 60,
     "metadata": {},
     "output_type": "execute_result"
    }
   ],
   "source": [
    "args.dataset"
   ]
  },
  {
   "cell_type": "code",
   "execution_count": 11,
   "id": "728412ca-c7c7-451a-8b48-fc7d650930a1",
   "metadata": {
    "tags": []
   },
   "outputs": [
    {
     "name": "stderr",
     "output_type": "stream",
     "text": [
      "                                                                      \r"
     ]
    }
   ],
   "source": [
    "sampler = WarpSampler(user_train, users_total_num, args,\n",
    "                      items_total_num, CXTDict)\n",
    "# Old case with numpy\n",
    "counter = 0\n",
    "for step in tqdm(range(int(num_batch)), total=int(num_batch), ncols=70, leave=False, unit='b'):\n",
    "    u, seq, pos, neg, seqcxt, poscxt, negcxt = sampler.next_batch()\n",
    "    counter += 1"
   ]
  },
  {
   "cell_type": "code",
   "execution_count": 49,
   "id": "17496d88-ff10-431e-a9ae-160b5f133694",
   "metadata": {},
   "outputs": [
    {
     "name": "stdout",
     "output_type": "stream",
     "text": [
      "iterations_num 1469053\n"
     ]
    },
    {
     "name": "stderr",
     "output_type": "stream",
     "text": [
      "                                                                      \r"
     ]
    },
    {
     "ename": "KeyboardInterrupt",
     "evalue": "",
     "output_type": "error",
     "traceback": [
      "\u001b[0;31m---------------------------------------------------------------------------\u001b[0m",
      "\u001b[0;31mKeyboardInterrupt\u001b[0m                         Traceback (most recent call last)",
      "\u001b[0;32m<ipython-input-49-a19edfe023dd>\u001b[0m in \u001b[0;36m<module>\u001b[0;34m\u001b[0m\n\u001b[1;32m      6\u001b[0m \u001b[0mcounter\u001b[0m \u001b[0;34m=\u001b[0m \u001b[0;36m0\u001b[0m\u001b[0;34m\u001b[0m\u001b[0;34m\u001b[0m\u001b[0m\n\u001b[1;32m      7\u001b[0m \u001b[0;32mfor\u001b[0m \u001b[0mstep\u001b[0m \u001b[0;32min\u001b[0m \u001b[0mtqdm\u001b[0m\u001b[0;34m(\u001b[0m\u001b[0mrange\u001b[0m\u001b[0;34m(\u001b[0m\u001b[0mint\u001b[0m\u001b[0;34m(\u001b[0m\u001b[0mnum_batch\u001b[0m\u001b[0;34m)\u001b[0m\u001b[0;34m)\u001b[0m\u001b[0;34m,\u001b[0m \u001b[0mtotal\u001b[0m\u001b[0;34m=\u001b[0m\u001b[0mint\u001b[0m\u001b[0;34m(\u001b[0m\u001b[0mnum_batch\u001b[0m\u001b[0;34m)\u001b[0m\u001b[0;34m,\u001b[0m \u001b[0mncols\u001b[0m\u001b[0;34m=\u001b[0m\u001b[0;36m70\u001b[0m\u001b[0;34m,\u001b[0m \u001b[0mleave\u001b[0m\u001b[0;34m=\u001b[0m\u001b[0;32mFalse\u001b[0m\u001b[0;34m,\u001b[0m \u001b[0munit\u001b[0m\u001b[0;34m=\u001b[0m\u001b[0;34m'b'\u001b[0m\u001b[0;34m)\u001b[0m\u001b[0;34m:\u001b[0m\u001b[0;34m\u001b[0m\u001b[0;34m\u001b[0m\u001b[0m\n\u001b[0;32m----> 8\u001b[0;31m     \u001b[0mu\u001b[0m\u001b[0;34m,\u001b[0m \u001b[0mseq\u001b[0m\u001b[0;34m,\u001b[0m \u001b[0mpos\u001b[0m\u001b[0;34m,\u001b[0m \u001b[0mneg\u001b[0m\u001b[0;34m,\u001b[0m \u001b[0mseqcxt\u001b[0m\u001b[0;34m,\u001b[0m \u001b[0mposcxt\u001b[0m\u001b[0;34m,\u001b[0m \u001b[0mnegcxt\u001b[0m \u001b[0;34m=\u001b[0m \u001b[0mPsampler\u001b[0m\u001b[0;34m[\u001b[0m\u001b[0mstep\u001b[0m\u001b[0;34m]\u001b[0m\u001b[0;34m\u001b[0m\u001b[0;34m\u001b[0m\u001b[0m\n\u001b[0m\u001b[1;32m      9\u001b[0m     \u001b[0mcounter\u001b[0m \u001b[0;34m+=\u001b[0m \u001b[0;36m1\u001b[0m\u001b[0;34m\u001b[0m\u001b[0;34m\u001b[0m\u001b[0m\n",
      "\u001b[0;32m~/sequential/src/sampler.py\u001b[0m in \u001b[0;36m<genexpr>\u001b[0;34m(.0)\u001b[0m\n\u001b[1;32m    112\u001b[0m     \u001b[0;32mdef\u001b[0m \u001b[0m__getitem__\u001b[0m\u001b[0;34m(\u001b[0m\u001b[0mself\u001b[0m\u001b[0;34m,\u001b[0m \u001b[0midx\u001b[0m\u001b[0;34m)\u001b[0m\u001b[0;34m:\u001b[0m\u001b[0;34m\u001b[0m\u001b[0;34m\u001b[0m\u001b[0m\n\u001b[1;32m    113\u001b[0m         \u001b[0mtuple_output\u001b[0m \u001b[0;34m=\u001b[0m \u001b[0mself\u001b[0m\u001b[0;34m.\u001b[0m\u001b[0msample\u001b[0m\u001b[0;34m(\u001b[0m\u001b[0;34m)\u001b[0m\u001b[0;34m\u001b[0m\u001b[0;34m\u001b[0m\u001b[0m\n\u001b[0;32m--> 114\u001b[0;31m         \u001b[0;32mreturn\u001b[0m \u001b[0;34m(\u001b[0m\u001b[0mtorch\u001b[0m\u001b[0;34m.\u001b[0m\u001b[0mtensor\u001b[0m\u001b[0;34m(\u001b[0m\u001b[0mx\u001b[0m\u001b[0;34m,\u001b[0m \u001b[0mdtype\u001b[0m\u001b[0;34m=\u001b[0m\u001b[0mtorch\u001b[0m\u001b[0;34m.\u001b[0m\u001b[0mlong\u001b[0m\u001b[0;34m,\u001b[0m \u001b[0mdevice\u001b[0m\u001b[0;34m=\u001b[0m\u001b[0mself\u001b[0m\u001b[0;34m.\u001b[0m\u001b[0mdevice\u001b[0m\u001b[0;34m)\u001b[0m \u001b[0;32mfor\u001b[0m \u001b[0mx\u001b[0m \u001b[0;32min\u001b[0m \u001b[0mtuple_output\u001b[0m\u001b[0;34m)\u001b[0m\u001b[0;34m\u001b[0m\u001b[0;34m\u001b[0m\u001b[0m\n\u001b[0m\u001b[1;32m    115\u001b[0m \u001b[0;34m\u001b[0m\u001b[0m\n\u001b[1;32m    116\u001b[0m \u001b[0;34m\u001b[0m\u001b[0m\n",
      "\u001b[0;31mKeyboardInterrupt\u001b[0m: "
     ]
    }
   ],
   "source": [
    "device = check_device()\n",
    "Psampler = PytorchSampler(users_total_num, items_total_num, user_train,\n",
    "                           CXTDict, args, device, SEED=42, \n",
    "                           reverse=True, mask_user=False, only_finals=True)\n",
    "# Old case with tensorflow\n",
    "counter = 0\n",
    "for step in tqdm(range(int(num_batch)), total=int(num_batch), ncols=70, leave=False, unit='b'):\n",
    "    u, seq, pos, neg, seqcxt, poscxt, negcxt = Psampler[step]\n",
    "    counter += 1"
   ]
  },
  {
   "cell_type": "code",
   "execution_count": null,
   "id": "2c074220-116d-42db-8d92-37d9e412dce2",
   "metadata": {},
   "outputs": [],
   "source": []
  }
 ],
 "metadata": {
  "kernelspec": {
   "display_name": "Python 3",
   "language": "python",
   "name": "python3"
  },
  "language_info": {
   "codemirror_mode": {
    "name": "ipython",
    "version": 3
   },
   "file_extension": ".py",
   "mimetype": "text/x-python",
   "name": "python",
   "nbconvert_exporter": "python",
   "pygments_lexer": "ipython3",
   "version": "3.6.9"
  }
 },
 "nbformat": 4,
 "nbformat_minor": 5
}
